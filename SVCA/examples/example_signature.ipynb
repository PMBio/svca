{
 "cells": [
  {
   "cell_type": "code",
   "execution_count": 1,
   "metadata": {},
   "outputs": [
    {
     "name": "stderr",
     "output_type": "stream",
     "text": [
      "/usr/local/lib/python2.7/dist-packages/h5py-2.7.1-py2.7-linux-x86_64.egg/h5py/__init__.py:36: FutureWarning: Conversion of the second argument of issubdtype from `float` to `np.floating` is deprecated. In future, it will be treated as `np.float64 == np.dtype(float).type`.\n",
      "  from ._conv import register_converters as _register_converters\n"
     ]
    }
   ],
   "source": [
    "# importing packages\n",
    "from svca.util_functions import util_functions\n",
    "from svca.run import run_indiv\n",
    "import os"
   ]
  },
  {
   "cell_type": "code",
   "execution_count": 2,
   "metadata": {},
   "outputs": [],
   "source": [
    "# defining image directory, output directory \n",
    "image_dir = 'data/IMC_example/Cy1x7/'\n",
    "res_root = '/tmp/svca_example/'\n",
    "plot_dir = '/tmp/svca_plot_example'\n",
    "\n",
    "# creating output directories\n",
    "res_dir = util_functions.make_dir(res_root+'/results/')  # this function prevents overwriting directories by incrementing the name if the directory already exists\n",
    "plot_dir = util_functions.make_dir(plot_dir)"
   ]
  },
  {
   "cell_type": "code",
   "execution_count": 3,
   "metadata": {
    "scrolled": true
   },
   "outputs": [
    {
     "name": "stdout",
     "output_type": "stream",
     "text": [
      "Marginal likelihood optimization.\n",
      "('Converged:', True)\n",
      "Time elapsed: 3.72 s\n",
      "Log Marginal Likelihood: 142.7144925.\n",
      "Gradient norm: 0.0017891.\n",
      "Marginal likelihood optimization.\n",
      "('Converged:', True)\n",
      "Time elapsed: 2.31 s\n",
      "Log Marginal Likelihood: 142.2616395.\n",
      "Gradient norm: 0.0002852.\n",
      "Marginal likelihood optimization.\n",
      "('Converged:', True)\n",
      "Time elapsed: 2.56 s\n",
      "Log Marginal Likelihood: 136.7679531.\n",
      "Gradient norm: 0.0000854.\n",
      "Marginal likelihood optimization.\n",
      "('Converged:', True)\n",
      "Time elapsed: 1.45 s\n",
      "Log Marginal Likelihood: 132.1181054.\n",
      "Gradient norm: 0.0002554.\n",
      "Marginal likelihood optimization.\n",
      "('Converged:', True)\n",
      "Time elapsed: 1.88 s\n",
      "Log Marginal Likelihood: 126.3538385.\n",
      "Gradient norm: 0.0000437.\n",
      "Marginal likelihood optimization.\n",
      "Marginal likelihood optimization.\n",
      "('Converged:', True)\n",
      "Time elapsed: 2.52 s\n",
      "Log Marginal Likelihood: 124.6631103.\n",
      "Gradient norm: 0.0007808.\n",
      "Marginal likelihood optimization.\n",
      "('Converged:', True)\n",
      "Time elapsed: 1.18 s\n",
      "Log Marginal Likelihood: 124.9587649.\n",
      "Gradient norm: 0.0000663.\n",
      "Marginal likelihood optimization.\n",
      "('Converged:', True)\n",
      "Time elapsed: 1.13 s\n",
      "Log Marginal Likelihood: 125.7799804.\n",
      "Gradient norm: 0.0001886.\n",
      "Marginal likelihood optimization.\n",
      "('Converged:', True)\n",
      "Time elapsed: 1.04 s\n",
      "Log Marginal Likelihood: 129.0083832.\n",
      "Gradient norm: 0.0004468.\n",
      "Marginal likelihood optimization.\n",
      "('Converged:', True)\n",
      "Time elapsed: 4.94 s\n",
      "Log Marginal Likelihood: 149.9311561.\n",
      "Gradient norm: 0.0003228.\n",
      "Marginal likelihood optimization.\n",
      "('Converged:', True)\n",
      "Time elapsed: 1.35 s\n",
      "Log Marginal Likelihood: 150.0313291.\n",
      "Gradient norm: 0.0015428.\n",
      "Marginal likelihood optimization.\n",
      "('Converged:', True)\n",
      "Time elapsed: 2.01 s\n",
      "Log Marginal Likelihood: 141.2438446.\n",
      "Gradient norm: 0.0050450.\n",
      "Marginal likelihood optimization.\n",
      "('Converged:', True)\n",
      "Time elapsed: 0.69 s\n",
      "Log Marginal Likelihood: 130.5445754.\n",
      "Gradient norm: 0.0001532.\n",
      "Marginal likelihood optimization.\n",
      "('Converged:', True)\n",
      "Time elapsed: 1.23 s\n",
      "Log Marginal Likelihood: 117.9727279.\n",
      "Gradient norm: 0.0000727.\n",
      "Marginal likelihood optimization.\n",
      "Marginal likelihood optimization.\n",
      "('Converged:', True)\n",
      "Time elapsed: 0.51 s\n",
      "Log Marginal Likelihood: 116.2353267.\n",
      "Gradient norm: 0.0017319.\n",
      "Marginal likelihood optimization.\n",
      "('Converged:', True)\n",
      "Time elapsed: 0.58 s\n",
      "Log Marginal Likelihood: 121.8361723.\n",
      "Gradient norm: 0.0013660.\n",
      "Marginal likelihood optimization.\n",
      "('Converged:', True)\n",
      "Time elapsed: 2.88 s\n",
      "Log Marginal Likelihood: 129.3908571.\n",
      "Gradient norm: 0.0002186.\n",
      "Marginal likelihood optimization.\n",
      "('Converged:', True)\n",
      "Time elapsed: 1.02 s\n",
      "Log Marginal Likelihood: 136.6827656.\n",
      "Gradient norm: 0.0009079.\n",
      "Marginal likelihood optimization.\n",
      "('Converged:', True)\n",
      "Time elapsed: 5.23 s\n",
      "Log Marginal Likelihood: 142.5102040.\n",
      "Gradient norm: 0.0046281.\n",
      "Marginal likelihood optimization.\n",
      "('Converged:', True)\n",
      "Time elapsed: 1.73 s\n",
      "Log Marginal Likelihood: 138.1139490.\n",
      "Gradient norm: 0.0018872.\n",
      "Marginal likelihood optimization.\n",
      "('Converged:', True)\n",
      "Time elapsed: 1.01 s\n",
      "Log Marginal Likelihood: 114.9043751.\n",
      "Gradient norm: 0.0002718.\n",
      "Marginal likelihood optimization.\n",
      "('Converged:', True)\n",
      "Time elapsed: 0.78 s\n",
      "Log Marginal Likelihood: 94.6096367.\n",
      "Gradient norm: 0.0000008.\n",
      "Marginal likelihood optimization.\n"
     ]
    },
    {
     "name": "stderr",
     "output_type": "stream",
     "text": [
      "/home/nico/Dropbox/JRC_COMBINE/svca/svca_limix/limix/core/covar/sqexp.py:48: RuntimeWarning: overflow encountered in exp\n",
      "  return sp.exp(self.params[0])\n",
      "/home/nico/Dropbox/JRC_COMBINE/svca/svca_limix/limix/core/covar/zkz.py:228: RuntimeWarning: invalid value encountered in multiply\n",
      "  z -= np.eye(z.shape[0]) * z.diagonal()\n",
      "/home/nico/Dropbox/JRC_COMBINE/svca/svca_limix/limix/core/covar/zkz.py:228: RuntimeWarning: invalid value encountered in subtract\n",
      "  z -= np.eye(z.shape[0]) * z.diagonal()\n"
     ]
    },
    {
     "name": "stdout",
     "output_type": "stream",
     "text": [
      "Marginal likelihood optimization.\n",
      "('Converged:', True)\n",
      "Time elapsed: 0.46 s\n",
      "Log Marginal Likelihood: 78.0283038.\n",
      "Gradient norm: 0.0018525.\n",
      "Marginal likelihood optimization.\n",
      "('Converged:', True)\n",
      "Time elapsed: 0.62 s\n",
      "Log Marginal Likelihood: 95.3738194.\n",
      "Gradient norm: 0.0001749.\n",
      "Marginal likelihood optimization.\n",
      "('Converged:', True)\n",
      "Time elapsed: 0.57 s\n",
      "Log Marginal Likelihood: 107.1680407.\n",
      "Gradient norm: 0.0001180.\n",
      "Marginal likelihood optimization.\n",
      "('Converged:', True)\n",
      "Time elapsed: 1.31 s\n",
      "Log Marginal Likelihood: 116.1543979.\n",
      "Gradient norm: 0.0000479.\n",
      "Marginal likelihood optimization.\n",
      "('Converged:', True)\n",
      "Time elapsed: 1.31 s\n",
      "Log Marginal Likelihood: 136.4657178.\n",
      "Gradient norm: 0.0004750.\n"
     ]
    }
   ],
   "source": [
    "# running SVCA on the first 3 proteins.\n",
    "# all results are saved in res_dir\n",
    "for prot in range(3):\n",
    "    run_indiv.run(image_dir, prot, res_dir);"
   ]
  },
  {
   "cell_type": "code",
   "execution_count": 4,
   "metadata": {},
   "outputs": [
    {
     "ename": "ImportError",
     "evalue": "No module named rpy2.ipython",
     "output_type": "error",
     "traceback": [
      "\u001b[0;31m--------------------------------------------------------------------------\u001b[0m",
      "\u001b[0;31mImportError\u001b[0m                              Traceback (most recent call last)",
      "\u001b[0;32m<ipython-input-4-3def7a0b99b6>\u001b[0m in \u001b[0;36m<module>\u001b[0;34m()\u001b[0m\n\u001b[1;32m      1\u001b[0m \u001b[0;31m# plot the variance signatures to visualise the results\u001b[0m\u001b[0;34m\u001b[0m\u001b[0;34m\u001b[0m\u001b[0m\n\u001b[0;32m----> 2\u001b[0;31m \u001b[0mget_ipython\u001b[0m\u001b[0;34m(\u001b[0m\u001b[0;34m)\u001b[0m\u001b[0;34m.\u001b[0m\u001b[0mmagic\u001b[0m\u001b[0;34m(\u001b[0m\u001b[0;34mu'load_ext rpy2.ipython'\u001b[0m\u001b[0;34m)\u001b[0m\u001b[0;34m\u001b[0m\u001b[0m\n\u001b[0m\u001b[1;32m      3\u001b[0m \u001b[0;34m\u001b[0m\u001b[0m\n",
      "\u001b[0;32m/home/nico/.local/lib/python2.7/site-packages/IPython/core/interactiveshell.pyc\u001b[0m in \u001b[0;36mmagic\u001b[0;34m(self, arg_s)\u001b[0m\n\u001b[1;32m   2158\u001b[0m         \u001b[0mmagic_name\u001b[0m\u001b[0;34m,\u001b[0m \u001b[0m_\u001b[0m\u001b[0;34m,\u001b[0m \u001b[0mmagic_arg_s\u001b[0m \u001b[0;34m=\u001b[0m \u001b[0marg_s\u001b[0m\u001b[0;34m.\u001b[0m\u001b[0mpartition\u001b[0m\u001b[0;34m(\u001b[0m\u001b[0;34m' '\u001b[0m\u001b[0;34m)\u001b[0m\u001b[0;34m\u001b[0m\u001b[0m\n\u001b[1;32m   2159\u001b[0m         \u001b[0mmagic_name\u001b[0m \u001b[0;34m=\u001b[0m \u001b[0mmagic_name\u001b[0m\u001b[0;34m.\u001b[0m\u001b[0mlstrip\u001b[0m\u001b[0;34m(\u001b[0m\u001b[0mprefilter\u001b[0m\u001b[0;34m.\u001b[0m\u001b[0mESC_MAGIC\u001b[0m\u001b[0;34m)\u001b[0m\u001b[0;34m\u001b[0m\u001b[0m\n\u001b[0;32m-> 2160\u001b[0;31m         \u001b[0;32mreturn\u001b[0m \u001b[0mself\u001b[0m\u001b[0;34m.\u001b[0m\u001b[0mrun_line_magic\u001b[0m\u001b[0;34m(\u001b[0m\u001b[0mmagic_name\u001b[0m\u001b[0;34m,\u001b[0m \u001b[0mmagic_arg_s\u001b[0m\u001b[0;34m)\u001b[0m\u001b[0;34m\u001b[0m\u001b[0m\n\u001b[0m\u001b[1;32m   2161\u001b[0m \u001b[0;34m\u001b[0m\u001b[0m\n\u001b[1;32m   2162\u001b[0m     \u001b[0;31m#-------------------------------------------------------------------------\u001b[0m\u001b[0;34m\u001b[0m\u001b[0;34m\u001b[0m\u001b[0m\n",
      "\u001b[0;32m/home/nico/.local/lib/python2.7/site-packages/IPython/core/interactiveshell.pyc\u001b[0m in \u001b[0;36mrun_line_magic\u001b[0;34m(self, magic_name, line)\u001b[0m\n\u001b[1;32m   2079\u001b[0m                 \u001b[0mkwargs\u001b[0m\u001b[0;34m[\u001b[0m\u001b[0;34m'local_ns'\u001b[0m\u001b[0;34m]\u001b[0m \u001b[0;34m=\u001b[0m \u001b[0msys\u001b[0m\u001b[0;34m.\u001b[0m\u001b[0m_getframe\u001b[0m\u001b[0;34m(\u001b[0m\u001b[0mstack_depth\u001b[0m\u001b[0;34m)\u001b[0m\u001b[0;34m.\u001b[0m\u001b[0mf_locals\u001b[0m\u001b[0;34m\u001b[0m\u001b[0m\n\u001b[1;32m   2080\u001b[0m             \u001b[0;32mwith\u001b[0m \u001b[0mself\u001b[0m\u001b[0;34m.\u001b[0m\u001b[0mbuiltin_trap\u001b[0m\u001b[0;34m:\u001b[0m\u001b[0;34m\u001b[0m\u001b[0m\n\u001b[0;32m-> 2081\u001b[0;31m                 \u001b[0mresult\u001b[0m \u001b[0;34m=\u001b[0m \u001b[0mfn\u001b[0m\u001b[0;34m(\u001b[0m\u001b[0;34m*\u001b[0m\u001b[0margs\u001b[0m\u001b[0;34m,\u001b[0m\u001b[0;34m**\u001b[0m\u001b[0mkwargs\u001b[0m\u001b[0;34m)\u001b[0m\u001b[0;34m\u001b[0m\u001b[0m\n\u001b[0m\u001b[1;32m   2082\u001b[0m             \u001b[0;32mreturn\u001b[0m \u001b[0mresult\u001b[0m\u001b[0;34m\u001b[0m\u001b[0m\n\u001b[1;32m   2083\u001b[0m \u001b[0;34m\u001b[0m\u001b[0m\n",
      "\u001b[0;32m<decorator-gen-63>\u001b[0m in \u001b[0;36mload_ext\u001b[0;34m(self, module_str)\u001b[0m\n",
      "\u001b[0;32m/home/nico/.local/lib/python2.7/site-packages/IPython/core/magic.pyc\u001b[0m in \u001b[0;36m<lambda>\u001b[0;34m(f, *a, **k)\u001b[0m\n\u001b[1;32m    186\u001b[0m     \u001b[0;31m# but it's overkill for just that one bit of state.\u001b[0m\u001b[0;34m\u001b[0m\u001b[0;34m\u001b[0m\u001b[0m\n\u001b[1;32m    187\u001b[0m     \u001b[0;32mdef\u001b[0m \u001b[0mmagic_deco\u001b[0m\u001b[0;34m(\u001b[0m\u001b[0marg\u001b[0m\u001b[0;34m)\u001b[0m\u001b[0;34m:\u001b[0m\u001b[0;34m\u001b[0m\u001b[0m\n\u001b[0;32m--> 188\u001b[0;31m         \u001b[0mcall\u001b[0m \u001b[0;34m=\u001b[0m \u001b[0;32mlambda\u001b[0m \u001b[0mf\u001b[0m\u001b[0;34m,\u001b[0m \u001b[0;34m*\u001b[0m\u001b[0ma\u001b[0m\u001b[0;34m,\u001b[0m \u001b[0;34m**\u001b[0m\u001b[0mk\u001b[0m\u001b[0;34m:\u001b[0m \u001b[0mf\u001b[0m\u001b[0;34m(\u001b[0m\u001b[0;34m*\u001b[0m\u001b[0ma\u001b[0m\u001b[0;34m,\u001b[0m \u001b[0;34m**\u001b[0m\u001b[0mk\u001b[0m\u001b[0;34m)\u001b[0m\u001b[0;34m\u001b[0m\u001b[0m\n\u001b[0m\u001b[1;32m    189\u001b[0m \u001b[0;34m\u001b[0m\u001b[0m\n\u001b[1;32m    190\u001b[0m         \u001b[0;32mif\u001b[0m \u001b[0mcallable\u001b[0m\u001b[0;34m(\u001b[0m\u001b[0marg\u001b[0m\u001b[0;34m)\u001b[0m\u001b[0;34m:\u001b[0m\u001b[0;34m\u001b[0m\u001b[0m\n",
      "\u001b[0;32m/home/nico/.local/lib/python2.7/site-packages/IPython/core/magics/extension.pyc\u001b[0m in \u001b[0;36mload_ext\u001b[0;34m(self, module_str)\u001b[0m\n\u001b[1;32m     35\u001b[0m         \u001b[0;32mif\u001b[0m \u001b[0;32mnot\u001b[0m \u001b[0mmodule_str\u001b[0m\u001b[0;34m:\u001b[0m\u001b[0;34m\u001b[0m\u001b[0m\n\u001b[1;32m     36\u001b[0m             \u001b[0;32mraise\u001b[0m \u001b[0mUsageError\u001b[0m\u001b[0;34m(\u001b[0m\u001b[0;34m'Missing module name.'\u001b[0m\u001b[0;34m)\u001b[0m\u001b[0;34m\u001b[0m\u001b[0m\n\u001b[0;32m---> 37\u001b[0;31m         \u001b[0mres\u001b[0m \u001b[0;34m=\u001b[0m \u001b[0mself\u001b[0m\u001b[0;34m.\u001b[0m\u001b[0mshell\u001b[0m\u001b[0;34m.\u001b[0m\u001b[0mextension_manager\u001b[0m\u001b[0;34m.\u001b[0m\u001b[0mload_extension\u001b[0m\u001b[0;34m(\u001b[0m\u001b[0mmodule_str\u001b[0m\u001b[0;34m)\u001b[0m\u001b[0;34m\u001b[0m\u001b[0m\n\u001b[0m\u001b[1;32m     38\u001b[0m \u001b[0;34m\u001b[0m\u001b[0m\n\u001b[1;32m     39\u001b[0m         \u001b[0;32mif\u001b[0m \u001b[0mres\u001b[0m \u001b[0;34m==\u001b[0m \u001b[0;34m'already loaded'\u001b[0m\u001b[0;34m:\u001b[0m\u001b[0;34m\u001b[0m\u001b[0m\n",
      "\u001b[0;32m/home/nico/.local/lib/python2.7/site-packages/IPython/core/extensions.pyc\u001b[0m in \u001b[0;36mload_extension\u001b[0;34m(self, module_str)\u001b[0m\n\u001b[1;32m     81\u001b[0m             \u001b[0;32mif\u001b[0m \u001b[0mmodule_str\u001b[0m \u001b[0;32mnot\u001b[0m \u001b[0;32min\u001b[0m \u001b[0msys\u001b[0m\u001b[0;34m.\u001b[0m\u001b[0mmodules\u001b[0m\u001b[0;34m:\u001b[0m\u001b[0;34m\u001b[0m\u001b[0m\n\u001b[1;32m     82\u001b[0m                 \u001b[0;32mwith\u001b[0m \u001b[0mprepended_to_syspath\u001b[0m\u001b[0;34m(\u001b[0m\u001b[0mself\u001b[0m\u001b[0;34m.\u001b[0m\u001b[0mipython_extension_dir\u001b[0m\u001b[0;34m)\u001b[0m\u001b[0;34m:\u001b[0m\u001b[0;34m\u001b[0m\u001b[0m\n\u001b[0;32m---> 83\u001b[0;31m                     \u001b[0m__import__\u001b[0m\u001b[0;34m(\u001b[0m\u001b[0mmodule_str\u001b[0m\u001b[0;34m)\u001b[0m\u001b[0;34m\u001b[0m\u001b[0m\n\u001b[0m\u001b[1;32m     84\u001b[0m             \u001b[0mmod\u001b[0m \u001b[0;34m=\u001b[0m \u001b[0msys\u001b[0m\u001b[0;34m.\u001b[0m\u001b[0mmodules\u001b[0m\u001b[0;34m[\u001b[0m\u001b[0mmodule_str\u001b[0m\u001b[0;34m]\u001b[0m\u001b[0;34m\u001b[0m\u001b[0m\n\u001b[1;32m     85\u001b[0m             \u001b[0;32mif\u001b[0m \u001b[0mself\u001b[0m\u001b[0;34m.\u001b[0m\u001b[0m_call_load_ipython_extension\u001b[0m\u001b[0;34m(\u001b[0m\u001b[0mmod\u001b[0m\u001b[0;34m)\u001b[0m\u001b[0;34m:\u001b[0m\u001b[0;34m\u001b[0m\u001b[0m\n",
      "\u001b[0;31mImportError\u001b[0m: No module named rpy2.ipython"
     ]
    }
   ],
   "source": [
    "# plot the variance signatures to visualise the results\n",
    "%load_ext rpy2.ipython\n",
    " "
   ]
  },
  {
   "cell_type": "code",
   "execution_count": null,
   "metadata": {},
   "outputs": [],
   "source": [
    "%%R -i res_root\n",
    "source('../svca/plot_scripts/visu_signatures_functions.R')\n",
    "all_res_merged = read_all_signatures(res_root)\n",
    "plot_sig_bars(all_res_merged)"
   ]
  },
  {
   "cell_type": "code",
   "execution_count": null,
   "metadata": {},
   "outputs": [],
   "source": []
  }
 ],
 "metadata": {
  "anaconda-cloud": {},
  "kernelspec": {
   "display_name": "Python 3",
   "language": "python",
   "name": "python3"
  },
  "language_info": {
   "codemirror_mode": {
    "name": "ipython",
    "version": 2
   },
   "file_extension": ".py",
   "mimetype": "text/x-python",
   "name": "python",
   "nbconvert_exporter": "python",
   "pygments_lexer": "ipython2",
   "version": "2.7.14"
  }
 },
 "nbformat": 4,
 "nbformat_minor": 1
}
